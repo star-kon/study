{
 "cells": [
  {
   "cell_type": "markdown",
   "id": "c2424324",
   "metadata": {},
   "source": [
    "#### Задача: собрать модель предсказывающую стоимость квартир из датасета с 10 000 значений, предсказать стоимость квартир в тренировочном датасете на 5000 значений и сохранить полученные предсказания для последующей сверки.  "
   ]
  },
  {
   "cell_type": "markdown",
   "id": "2666e397",
   "metadata": {},
   "source": [
    "### Осуществляем импорт необходимых библиотек"
   ]
  },
  {
   "cell_type": "code",
   "execution_count": 162,
   "id": "5a57aeae",
   "metadata": {},
   "outputs": [],
   "source": [
    "import numpy as np\n",
    "import pandas as pd\n",
    "from sklearn.model_selection import train_test_split\n",
    "from sklearn import preprocessing\n",
    "from sklearn.ensemble import RandomForestRegressor\n",
    "from sklearn.metrics import r2_score"
   ]
  },
  {
   "cell_type": "markdown",
   "id": "fa81e65e",
   "metadata": {},
   "source": [
    "### Импортируем данные"
   ]
  },
  {
   "cell_type": "code",
   "execution_count": 163,
   "id": "39692bb2",
   "metadata": {},
   "outputs": [
    {
     "data": {
      "text/html": [
       "<div>\n",
       "<style scoped>\n",
       "    .dataframe tbody tr th:only-of-type {\n",
       "        vertical-align: middle;\n",
       "    }\n",
       "\n",
       "    .dataframe tbody tr th {\n",
       "        vertical-align: top;\n",
       "    }\n",
       "\n",
       "    .dataframe thead th {\n",
       "        text-align: right;\n",
       "    }\n",
       "</style>\n",
       "<table border=\"1\" class=\"dataframe\">\n",
       "  <thead>\n",
       "    <tr style=\"text-align: right;\">\n",
       "      <th></th>\n",
       "      <th>Id</th>\n",
       "      <th>DistrictId</th>\n",
       "      <th>Rooms</th>\n",
       "      <th>Square</th>\n",
       "      <th>LifeSquare</th>\n",
       "      <th>KitchenSquare</th>\n",
       "      <th>Floor</th>\n",
       "      <th>HouseFloor</th>\n",
       "      <th>HouseYear</th>\n",
       "      <th>Ecology_1</th>\n",
       "      <th>Ecology_2</th>\n",
       "      <th>Ecology_3</th>\n",
       "      <th>Social_1</th>\n",
       "      <th>Social_2</th>\n",
       "      <th>Social_3</th>\n",
       "      <th>Healthcare_1</th>\n",
       "      <th>Helthcare_2</th>\n",
       "      <th>Shops_1</th>\n",
       "      <th>Shops_2</th>\n",
       "      <th>Price</th>\n",
       "    </tr>\n",
       "  </thead>\n",
       "  <tbody>\n",
       "    <tr>\n",
       "      <th>0</th>\n",
       "      <td>11809</td>\n",
       "      <td>27</td>\n",
       "      <td>3.0</td>\n",
       "      <td>115.027311</td>\n",
       "      <td>NaN</td>\n",
       "      <td>10.0</td>\n",
       "      <td>4</td>\n",
       "      <td>10.0</td>\n",
       "      <td>2014</td>\n",
       "      <td>0.075424</td>\n",
       "      <td>B</td>\n",
       "      <td>B</td>\n",
       "      <td>11</td>\n",
       "      <td>3097</td>\n",
       "      <td>0</td>\n",
       "      <td>NaN</td>\n",
       "      <td>0</td>\n",
       "      <td>0</td>\n",
       "      <td>B</td>\n",
       "      <td>305018.871089</td>\n",
       "    </tr>\n",
       "    <tr>\n",
       "      <th>1</th>\n",
       "      <td>3013</td>\n",
       "      <td>22</td>\n",
       "      <td>1.0</td>\n",
       "      <td>39.832524</td>\n",
       "      <td>23.169223</td>\n",
       "      <td>8.0</td>\n",
       "      <td>7</td>\n",
       "      <td>8.0</td>\n",
       "      <td>1966</td>\n",
       "      <td>0.118537</td>\n",
       "      <td>B</td>\n",
       "      <td>B</td>\n",
       "      <td>30</td>\n",
       "      <td>6207</td>\n",
       "      <td>1</td>\n",
       "      <td>1183.0</td>\n",
       "      <td>1</td>\n",
       "      <td>0</td>\n",
       "      <td>B</td>\n",
       "      <td>177734.553407</td>\n",
       "    </tr>\n",
       "    <tr>\n",
       "      <th>2</th>\n",
       "      <td>8215</td>\n",
       "      <td>1</td>\n",
       "      <td>3.0</td>\n",
       "      <td>78.342215</td>\n",
       "      <td>47.671972</td>\n",
       "      <td>10.0</td>\n",
       "      <td>2</td>\n",
       "      <td>17.0</td>\n",
       "      <td>1988</td>\n",
       "      <td>0.025609</td>\n",
       "      <td>B</td>\n",
       "      <td>B</td>\n",
       "      <td>33</td>\n",
       "      <td>5261</td>\n",
       "      <td>0</td>\n",
       "      <td>240.0</td>\n",
       "      <td>3</td>\n",
       "      <td>1</td>\n",
       "      <td>B</td>\n",
       "      <td>282078.720850</td>\n",
       "    </tr>\n",
       "    <tr>\n",
       "      <th>3</th>\n",
       "      <td>2352</td>\n",
       "      <td>1</td>\n",
       "      <td>1.0</td>\n",
       "      <td>40.409907</td>\n",
       "      <td>NaN</td>\n",
       "      <td>1.0</td>\n",
       "      <td>10</td>\n",
       "      <td>22.0</td>\n",
       "      <td>1977</td>\n",
       "      <td>0.007122</td>\n",
       "      <td>B</td>\n",
       "      <td>B</td>\n",
       "      <td>1</td>\n",
       "      <td>264</td>\n",
       "      <td>0</td>\n",
       "      <td>NaN</td>\n",
       "      <td>0</td>\n",
       "      <td>1</td>\n",
       "      <td>B</td>\n",
       "      <td>168106.007630</td>\n",
       "    </tr>\n",
       "    <tr>\n",
       "      <th>4</th>\n",
       "      <td>13866</td>\n",
       "      <td>94</td>\n",
       "      <td>2.0</td>\n",
       "      <td>64.285067</td>\n",
       "      <td>38.562517</td>\n",
       "      <td>9.0</td>\n",
       "      <td>16</td>\n",
       "      <td>16.0</td>\n",
       "      <td>1972</td>\n",
       "      <td>0.282798</td>\n",
       "      <td>B</td>\n",
       "      <td>B</td>\n",
       "      <td>33</td>\n",
       "      <td>8667</td>\n",
       "      <td>2</td>\n",
       "      <td>NaN</td>\n",
       "      <td>0</td>\n",
       "      <td>6</td>\n",
       "      <td>B</td>\n",
       "      <td>343995.102962</td>\n",
       "    </tr>\n",
       "  </tbody>\n",
       "</table>\n",
       "</div>"
      ],
      "text/plain": [
       "      Id  DistrictId  Rooms      Square  LifeSquare  KitchenSquare  Floor  \\\n",
       "0  11809          27    3.0  115.027311         NaN           10.0      4   \n",
       "1   3013          22    1.0   39.832524   23.169223            8.0      7   \n",
       "2   8215           1    3.0   78.342215   47.671972           10.0      2   \n",
       "3   2352           1    1.0   40.409907         NaN            1.0     10   \n",
       "4  13866          94    2.0   64.285067   38.562517            9.0     16   \n",
       "\n",
       "   HouseFloor  HouseYear  Ecology_1 Ecology_2 Ecology_3  Social_1  Social_2  \\\n",
       "0        10.0       2014   0.075424         B         B        11      3097   \n",
       "1         8.0       1966   0.118537         B         B        30      6207   \n",
       "2        17.0       1988   0.025609         B         B        33      5261   \n",
       "3        22.0       1977   0.007122         B         B         1       264   \n",
       "4        16.0       1972   0.282798         B         B        33      8667   \n",
       "\n",
       "   Social_3  Healthcare_1  Helthcare_2  Shops_1 Shops_2          Price  \n",
       "0         0           NaN            0        0       B  305018.871089  \n",
       "1         1        1183.0            1        0       B  177734.553407  \n",
       "2         0         240.0            3        1       B  282078.720850  \n",
       "3         0           NaN            0        1       B  168106.007630  \n",
       "4         2           NaN            0        6       B  343995.102962  "
      ]
     },
     "execution_count": 163,
     "metadata": {},
     "output_type": "execute_result"
    }
   ],
   "source": [
    "dataset = pd.read_csv('/Users/konstantinx/opt/train.csv', delimiter=',')\n",
    "dataset.head(5)"
   ]
  },
  {
   "cell_type": "markdown",
   "id": "a3c7f3cb",
   "metadata": {},
   "source": [
    "### Создаём функцию обогащения данных в датасете, которая убирает нулевые значения, заменяет буквенные цифрами, обрабатывает некорректные значения, например \"бОльшая жилая площадь, чем вся площадь в квартире\"."
   ]
  },
  {
   "cell_type": "code",
   "execution_count": 164,
   "id": "b5b04394",
   "metadata": {},
   "outputs": [],
   "source": [
    "def enrichment(in_dataset):\n",
    "    \n",
    "    in_dataset = in_dataset.drop('Id', axis=1) \n",
    "    in_dataset['LifeSquare'] = np.where(in_dataset['LifeSquare']>in_dataset['Square'], in_dataset['Square']-in_dataset['KitchenSquare'], in_dataset['LifeSquare'])\n",
    "    in_dataset['LifeSquare'] = np.where(in_dataset['LifeSquare'].isna(), in_dataset['Square']-in_dataset['KitchenSquare'], in_dataset['LifeSquare'])\n",
    "    in_dataset['HouseFloor'] = np.where(in_dataset['HouseFloor']<in_dataset['Floor'], in_dataset['Floor'], in_dataset['HouseFloor'])\n",
    "    in_dataset['Rooms'] = np.where(in_dataset['Rooms'] == 0, in_dataset['Rooms'].mean(), in_dataset['Rooms'])\n",
    "    in_dataset['Healthcare_1'] = np.where(in_dataset['Healthcare_1'].isna(), in_dataset['Healthcare_1'].mean(), in_dataset['Healthcare_1'])\n",
    "    in_dataset['Ecology_2'] = np.where(in_dataset['Ecology_2']=='A', 0, 1)\n",
    "    in_dataset['Ecology_3'] = np.where(in_dataset['Ecology_3']=='A', 0, 1)\n",
    "    in_dataset['Shops_2'] = np.where(in_dataset['Shops_2']=='A', 0, 1)\n",
    "    in_dataset['DistrictId_SocHealth'] = in_dataset['DistrictId']+in_dataset['Helthcare_2']+in_dataset['Social_1']\n",
    "    in_dataset['DistrictId_Soc1'] = in_dataset['DistrictId']+in_dataset['Social_1']\n",
    "    in_dataset['DistrictId_Health'] = in_dataset['DistrictId']+in_dataset['Helthcare_2']\n",
    "    in_dataset['DistrictId_Soc2'] = in_dataset['Social_2']+in_dataset['DistrictId']\n",
    "    \n",
    "    return(in_dataset)"
   ]
  },
  {
   "cell_type": "markdown",
   "id": "f9128ef8",
   "metadata": {},
   "source": [
    "### Функция отбора  наименований наиболее ценных значений датасета с помощью матрицы кореляции."
   ]
  },
  {
   "cell_type": "code",
   "execution_count": 165,
   "id": "2d410774",
   "metadata": {},
   "outputs": [],
   "source": [
    "def corelation(dataset):\n",
    "    matr = dataset.corr()\n",
    "    high_corr = matr['Price']\n",
    "    high_corr = high_corr[(high_corr > 0.3) | (high_corr < -0.3)]\n",
    "    names = list(high_corr.index)\n",
    "    names.remove('Price')\n",
    "    return(names)"
   ]
  },
  {
   "cell_type": "markdown",
   "id": "dc47b612",
   "metadata": {},
   "source": [
    "### Убираем выбросы с помощью межквартильного размаха (с немного изменёнными вводными)."
   ]
  },
  {
   "cell_type": "code",
   "execution_count": 166,
   "id": "077e8eaa",
   "metadata": {},
   "outputs": [],
   "source": [
    "def normalization(dataset):\n",
    "    normal_dataset = dataset[dataset['Square'] < dataset['Square'].describe()['75%']*1.7]\n",
    "    normal_dataset = normal_dataset[normal_dataset['Square']>normal_dataset['Square'].describe()['25%']*0.6]\n",
    "    return(normal_dataset)"
   ]
  },
  {
   "cell_type": "markdown",
   "id": "d1823b50",
   "metadata": {},
   "source": [
    "### Обрабатываем данные: \n",
    "##### 1. Удаляем выбросы\n",
    "##### 2. Отбираем целевые значения\n",
    "##### 3. Обогащаем данные синтетическими признаками\n",
    "##### 4. Строим матрицу кореляций для проверки, будет ли модель лучше работать на меньшем количестве признаков\n",
    "##### 5. Убираем целевые значения из обрабатываемого датасета\n",
    "##### 6. Создаём датафрейм только с сильными признаками"
   ]
  },
  {
   "cell_type": "code",
   "execution_count": 167,
   "id": "b1ac873b",
   "metadata": {},
   "outputs": [],
   "source": [
    "normal_dataset = normalization(dataset) \n",
    "y = normal_dataset['Price']\n",
    "X_norm = enrichment(normal_dataset)\n",
    "corr_names = corelation(X_norm)\n",
    "X_norm = X_norm.drop('Price', axis=1)\n",
    "corr_dataset = X_norm[corr_names]\n"
   ]
  },
  {
   "cell_type": "markdown",
   "id": "73f68844",
   "metadata": {},
   "source": [
    "### Создаём тестовые и валидационные данные основного датасета\n",
    "### Создаём модель и обучаем её на тестовых данных. \n",
    "### Создаём предсказание на валидационных данных.\n",
    "### Считаем точность"
   ]
  },
  {
   "cell_type": "code",
   "execution_count": 168,
   "id": "be12340a",
   "metadata": {},
   "outputs": [
    {
     "data": {
      "text/plain": [
       "0.7580677629100192"
      ]
     },
     "execution_count": 168,
     "metadata": {},
     "output_type": "execute_result"
    }
   ],
   "source": [
    "X_train, X_valid, y_train, y_valid = train_test_split(X_norm, y, test_size=0.2, random_state=42)\n",
    "\n",
    "model_1 = RandomForestRegressor(n_estimators=1000, max_depth=22, random_state=7)\n",
    "model_1.fit(X_train, y_train)\n",
    "model_pred = model_1.predict(X_valid)\n",
    "\n",
    "r2_score(y_valid, model_pred)"
   ]
  },
  {
   "cell_type": "markdown",
   "id": "4bcb64d2",
   "metadata": {},
   "source": [
    "### Создаём модель на малых данных. Убедились, что уменьшение признаков ухудшает результат, поэтому берём полный вариант"
   ]
  },
  {
   "cell_type": "code",
   "execution_count": 169,
   "id": "801c1783",
   "metadata": {},
   "outputs": [
    {
     "data": {
      "text/plain": [
       "0.6499802000109687"
      ]
     },
     "execution_count": 169,
     "metadata": {},
     "output_type": "execute_result"
    }
   ],
   "source": [
    "X2_train, X2_valid, y2_train, y2_valid = train_test_split(corr_dataset, y, test_size=0.2, random_state=42)\n",
    "\n",
    "model_2 = RandomForestRegressor(n_estimators=1000, max_depth=22, random_state=7)\n",
    "model_2.fit(X2_train, y2_train)\n",
    "model_pred = model_2.predict(X2_valid)\n",
    "\n",
    "r2_score(y2_valid, model_pred)"
   ]
  },
  {
   "cell_type": "markdown",
   "id": "17636b25",
   "metadata": {},
   "source": [
    "### Загружаем тестовые данные"
   ]
  },
  {
   "cell_type": "code",
   "execution_count": 170,
   "id": "0f20f7e2",
   "metadata": {},
   "outputs": [],
   "source": [
    "testset = pd.read_csv('/Users/konstantinx/opt/test.csv', delimiter=',')"
   ]
  },
  {
   "cell_type": "markdown",
   "id": "746fe117",
   "metadata": {},
   "source": [
    "### Обрабатываем тестовые данные"
   ]
  },
  {
   "cell_type": "code",
   "execution_count": 171,
   "id": "c43fb064",
   "metadata": {},
   "outputs": [
    {
     "data": {
      "text/html": [
       "<div>\n",
       "<style scoped>\n",
       "    .dataframe tbody tr th:only-of-type {\n",
       "        vertical-align: middle;\n",
       "    }\n",
       "\n",
       "    .dataframe tbody tr th {\n",
       "        vertical-align: top;\n",
       "    }\n",
       "\n",
       "    .dataframe thead th {\n",
       "        text-align: right;\n",
       "    }\n",
       "</style>\n",
       "<table border=\"1\" class=\"dataframe\">\n",
       "  <thead>\n",
       "    <tr style=\"text-align: right;\">\n",
       "      <th></th>\n",
       "      <th>DistrictId</th>\n",
       "      <th>Rooms</th>\n",
       "      <th>Square</th>\n",
       "      <th>LifeSquare</th>\n",
       "      <th>KitchenSquare</th>\n",
       "      <th>Floor</th>\n",
       "      <th>HouseFloor</th>\n",
       "      <th>HouseYear</th>\n",
       "      <th>Ecology_1</th>\n",
       "      <th>Ecology_2</th>\n",
       "      <th>...</th>\n",
       "      <th>Social_2</th>\n",
       "      <th>Social_3</th>\n",
       "      <th>Healthcare_1</th>\n",
       "      <th>Helthcare_2</th>\n",
       "      <th>Shops_1</th>\n",
       "      <th>Shops_2</th>\n",
       "      <th>DistrictId_SocHealth</th>\n",
       "      <th>DistrictId_Soc1</th>\n",
       "      <th>DistrictId_Health</th>\n",
       "      <th>DistrictId_Soc2</th>\n",
       "    </tr>\n",
       "  </thead>\n",
       "  <tbody>\n",
       "    <tr>\n",
       "      <th>0</th>\n",
       "      <td>44</td>\n",
       "      <td>1.0</td>\n",
       "      <td>36.847630</td>\n",
       "      <td>19.094182</td>\n",
       "      <td>5.0</td>\n",
       "      <td>5</td>\n",
       "      <td>9.0</td>\n",
       "      <td>1970</td>\n",
       "      <td>0.036122</td>\n",
       "      <td>1</td>\n",
       "      <td>...</td>\n",
       "      <td>4378</td>\n",
       "      <td>0</td>\n",
       "      <td>1036.000000</td>\n",
       "      <td>1</td>\n",
       "      <td>1</td>\n",
       "      <td>1</td>\n",
       "      <td>69</td>\n",
       "      <td>68</td>\n",
       "      <td>45</td>\n",
       "      <td>4422</td>\n",
       "    </tr>\n",
       "    <tr>\n",
       "      <th>1</th>\n",
       "      <td>62</td>\n",
       "      <td>1.0</td>\n",
       "      <td>42.493907</td>\n",
       "      <td>32.493907</td>\n",
       "      <td>10.0</td>\n",
       "      <td>7</td>\n",
       "      <td>17.0</td>\n",
       "      <td>2017</td>\n",
       "      <td>0.072158</td>\n",
       "      <td>1</td>\n",
       "      <td>...</td>\n",
       "      <td>629</td>\n",
       "      <td>1</td>\n",
       "      <td>1146.657263</td>\n",
       "      <td>0</td>\n",
       "      <td>0</td>\n",
       "      <td>0</td>\n",
       "      <td>64</td>\n",
       "      <td>64</td>\n",
       "      <td>62</td>\n",
       "      <td>691</td>\n",
       "    </tr>\n",
       "    <tr>\n",
       "      <th>2</th>\n",
       "      <td>27</td>\n",
       "      <td>2.0</td>\n",
       "      <td>59.463678</td>\n",
       "      <td>50.463678</td>\n",
       "      <td>9.0</td>\n",
       "      <td>19</td>\n",
       "      <td>19.0</td>\n",
       "      <td>1977</td>\n",
       "      <td>0.211401</td>\n",
       "      <td>1</td>\n",
       "      <td>...</td>\n",
       "      <td>1892</td>\n",
       "      <td>0</td>\n",
       "      <td>1146.657263</td>\n",
       "      <td>0</td>\n",
       "      <td>1</td>\n",
       "      <td>1</td>\n",
       "      <td>36</td>\n",
       "      <td>36</td>\n",
       "      <td>27</td>\n",
       "      <td>1919</td>\n",
       "    </tr>\n",
       "    <tr>\n",
       "      <th>3</th>\n",
       "      <td>23</td>\n",
       "      <td>3.0</td>\n",
       "      <td>49.646030</td>\n",
       "      <td>33.893825</td>\n",
       "      <td>6.0</td>\n",
       "      <td>2</td>\n",
       "      <td>2.0</td>\n",
       "      <td>1965</td>\n",
       "      <td>0.014073</td>\n",
       "      <td>1</td>\n",
       "      <td>...</td>\n",
       "      <td>475</td>\n",
       "      <td>0</td>\n",
       "      <td>1146.657263</td>\n",
       "      <td>0</td>\n",
       "      <td>0</td>\n",
       "      <td>1</td>\n",
       "      <td>25</td>\n",
       "      <td>25</td>\n",
       "      <td>23</td>\n",
       "      <td>498</td>\n",
       "    </tr>\n",
       "    <tr>\n",
       "      <th>4</th>\n",
       "      <td>74</td>\n",
       "      <td>1.0</td>\n",
       "      <td>53.837056</td>\n",
       "      <td>52.837056</td>\n",
       "      <td>1.0</td>\n",
       "      <td>8</td>\n",
       "      <td>17.0</td>\n",
       "      <td>1977</td>\n",
       "      <td>0.309479</td>\n",
       "      <td>1</td>\n",
       "      <td>...</td>\n",
       "      <td>7715</td>\n",
       "      <td>4</td>\n",
       "      <td>990.000000</td>\n",
       "      <td>0</td>\n",
       "      <td>6</td>\n",
       "      <td>1</td>\n",
       "      <td>109</td>\n",
       "      <td>109</td>\n",
       "      <td>74</td>\n",
       "      <td>7789</td>\n",
       "    </tr>\n",
       "  </tbody>\n",
       "</table>\n",
       "<p>5 rows × 22 columns</p>\n",
       "</div>"
      ],
      "text/plain": [
       "   DistrictId  Rooms     Square  LifeSquare  KitchenSquare  Floor  HouseFloor  \\\n",
       "0          44    1.0  36.847630   19.094182            5.0      5         9.0   \n",
       "1          62    1.0  42.493907   32.493907           10.0      7        17.0   \n",
       "2          27    2.0  59.463678   50.463678            9.0     19        19.0   \n",
       "3          23    3.0  49.646030   33.893825            6.0      2         2.0   \n",
       "4          74    1.0  53.837056   52.837056            1.0      8        17.0   \n",
       "\n",
       "   HouseYear  Ecology_1  Ecology_2  ...  Social_2  Social_3  Healthcare_1  \\\n",
       "0       1970   0.036122          1  ...      4378         0   1036.000000   \n",
       "1       2017   0.072158          1  ...       629         1   1146.657263   \n",
       "2       1977   0.211401          1  ...      1892         0   1146.657263   \n",
       "3       1965   0.014073          1  ...       475         0   1146.657263   \n",
       "4       1977   0.309479          1  ...      7715         4    990.000000   \n",
       "\n",
       "   Helthcare_2  Shops_1  Shops_2  DistrictId_SocHealth  DistrictId_Soc1  \\\n",
       "0            1        1        1                    69               68   \n",
       "1            0        0        0                    64               64   \n",
       "2            0        1        1                    36               36   \n",
       "3            0        0        1                    25               25   \n",
       "4            0        6        1                   109              109   \n",
       "\n",
       "   DistrictId_Health  DistrictId_Soc2  \n",
       "0                 45             4422  \n",
       "1                 62              691  \n",
       "2                 27             1919  \n",
       "3                 23              498  \n",
       "4                 74             7789  \n",
       "\n",
       "[5 rows x 22 columns]"
      ]
     },
     "execution_count": 171,
     "metadata": {},
     "output_type": "execute_result"
    }
   ],
   "source": [
    "norm_test = enrichment(testset)\n",
    "norm_test.head(5)"
   ]
  },
  {
   "cell_type": "markdown",
   "id": "d7f0a23a",
   "metadata": {},
   "source": [
    "### Строим тестовые значения"
   ]
  },
  {
   "cell_type": "code",
   "execution_count": 172,
   "id": "3734326f",
   "metadata": {},
   "outputs": [
    {
     "data": {
      "text/plain": [
       "array([157763.30458747, 118496.27281978, 143049.91588588, ...,\n",
       "       145268.98209551, 193619.24107261, 272013.98380932])"
      ]
     },
     "execution_count": 172,
     "metadata": {},
     "output_type": "execute_result"
    }
   ],
   "source": [
    "model_test_pred = model_1.predict(norm_test)\n",
    "model_test_pred"
   ]
  },
  {
   "cell_type": "markdown",
   "id": "14146b62",
   "metadata": {},
   "source": [
    "### Создаём файл с ответами"
   ]
  },
  {
   "cell_type": "code",
   "execution_count": 173,
   "id": "a58b1bab",
   "metadata": {},
   "outputs": [],
   "source": [
    "answer = pd.DataFrame()\n",
    "answer['Id']=testset['Id']\n",
    "answer['Price'] = model_test_pred\n",
    "answer.to_csv('/Users/konstantinx/opt/KStarkov_predictions.csv', index=False)"
   ]
  }
 ],
 "metadata": {
  "kernelspec": {
   "display_name": "Python 3",
   "language": "python",
   "name": "python3"
  },
  "language_info": {
   "codemirror_mode": {
    "name": "ipython",
    "version": 3
   },
   "file_extension": ".py",
   "mimetype": "text/x-python",
   "name": "python",
   "nbconvert_exporter": "python",
   "pygments_lexer": "ipython3",
   "version": "3.8.8"
  }
 },
 "nbformat": 4,
 "nbformat_minor": 5
}
